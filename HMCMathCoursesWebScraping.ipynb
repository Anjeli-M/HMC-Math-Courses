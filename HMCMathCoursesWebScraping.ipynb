{
 "cells": [
  {
   "cell_type": "markdown",
   "id": "3473845c",
   "metadata": {},
   "source": [
    "# HMC Math Courses Web Scraping"
   ]
  },
  {
   "cell_type": "markdown",
   "id": "ee791041",
   "metadata": {},
   "source": [
    "### Imports"
   ]
  },
  {
   "cell_type": "code",
   "execution_count": 3,
   "id": "6eadd206",
   "metadata": {},
   "outputs": [
    {
     "name": "stderr",
     "output_type": "stream",
     "text": [
      "[WDM] - Downloading: 100%|█████████████████| 8.84M/8.84M [00:00<00:00, 27.7MB/s]\n"
     ]
    }
   ],
   "source": [
    "from selenium import webdriver\n",
    "from bs4 import BeautifulSoup\n",
    "import pandas as pd\n",
    "import requests\n",
    "\n",
    "from selenium.webdriver.chrome.service import Service as ChromeService\n",
    "from webdriver_manager.chrome import ChromeDriverManager\n",
    "\n",
    "driver = webdriver.Chrome(service=ChromeService(ChromeDriverManager().install()))"
   ]
  },
  {
   "cell_type": "markdown",
   "id": "6f3315ee",
   "metadata": {},
   "source": [
    "### General Definitions/Setup"
   ]
  },
  {
   "cell_type": "code",
   "execution_count": 6,
   "id": "2308bd03",
   "metadata": {},
   "outputs": [],
   "source": [
    "url = \"https://www.hmc.edu/mathematics/program/mathematics-course-descriptions/\"\n",
    "\n",
    "driver.get(url)\n",
    "\n",
    "#content = driver.page_source\n",
    "#soup = BeautifulSoup(content)\n",
    "\n",
    "#result = requests.get(url).text\n",
    "#doc = BeautifulSoup(result, \"html.parser\")\n",
    "\n",
    "r = requests.get(url)\n",
    "soup = BeautifulSoup(r.content, 'html5lib')\n",
    "\n",
    "content = soup.find('article', attrs = {'class':'content common'})\n",
    "\n",
    "# example use:\n",
    "#res = soup.find(id = \"content\")\n",
    "#print(res)\n",
    "\n",
    "# r = requests.get(url)\n",
    "# print(r.content) --> gives the raw html of the page\n",
    "\n",
    "# soup = BeautifulSoup(r.content, 'html5lib') # creates a BeautifulSoup object with content r.content and using the html parser html5lib\n",
    "# print(soup.prettify()) printing a more readable version of the html"
   ]
  },
  {
   "cell_type": "markdown",
   "id": "38a80996",
   "metadata": {},
   "source": [
    "### Dictionary Between Course Num+Name and its html Class"
   ]
  },
  {
   "cell_type": "code",
   "execution_count": 8,
   "id": "31a10056",
   "metadata": {
    "scrolled": true
   },
   "outputs": [
    {
     "name": "stdout",
     "output_type": "stream",
     "text": [
      "{'CSMT181 HM - Special Topics in Computer Science and Mathematics': '6961', 'CSMT183 HM - Computer Science and Mathematics Clinic I': '6897', 'CSMT184 HM - Computer Science and Mathematics Clinic II': '6898', 'MATH019 HM - Single and Multivariable Calculus': '6943', 'MATH021 HM - Mathematics of Games and Puzzles': '6950', 'MATH055 HM - Discrete Mathematics': '6772', 'MATH055A HM - Topics in Discrete Mathematics': '6902', 'MATH062 HM - Introduction to Probability and Statistics': '6966', 'MATH073 HM - Linear Algebra': '6948', 'MATH082 HM - Differential Equations': '6949', 'MATH092 HM - Mathematical Contest in Modeling/Interdisciplinary Contest in Modeling Seminar': '6773', 'MATH093 HM - Putnam Seminar': '6774', 'MATH094 HM - Problem Solving Seminar': '6775', 'MATH104 HM - Graph Theory': '6776', 'MATH106 HM - Combinatorics': '6777', 'MATH108 PZ - History of Mathematics': '6778', 'MATH109 CM - Introduction to the Mathematics of Finance': '6779', 'MATH119 HM - Advanced Mathematical Biology': '6781', 'MATH131 HM - Mathematical Analysis I': '6782', 'MATH132 HM - Mathematical Analysis II': '6783', 'MATH136 HM - Complex Variables and Integral Transforms': '6784', 'MATH137 HM - Graduate Analysis I': '6785', 'MATH138 HM - Graduate Analysis II': '6786', 'MATH142 HM - Differential Geometry': '6787', 'MATH143 HM - Seminar in Differential Geometry': '6788', 'MATH147 HM - Topology': '6789', 'MATH148 PZ - Knot Theory': '6790', 'MATH152 HM - Statistical Theory': '6791', 'MATH153 HM - Bayesian Statistics': '6792', 'MATH155 HM - Time Series': '6793', 'MATH156 HM - Stochastic Processes': '6794', 'MATH157 HM - Intermediate Probability': '6795', 'MATH158 HM - Statistical Linear Models': '6796', 'MATH164 HM - Scientific Computing': '6797', 'MATH165 HM - Numerical Analysis': '6798', 'MATH167 HM - Complexity Theory': '6799', 'MATH168 HM - Algorithms': '6800', 'MATH171 HM - Abstract Algebra I': '6801', 'MATH172 HM - Abstract Algebra II: Galois Theory': '6802', 'MATH173 HM - Advanced Linear Algebra': '6803', 'MATH174 HM - Abstract Algebra II: Representation Theory': '6804', 'MATH175 HM - Number Theory': '6805', 'MATH176 HM - Algebraic Geometry': '6806', 'MATH178 HM - Nonlinear Data Analytics': '6937', 'MATH179 HM - Mathematics of Big Data': '7105', 'MATH180 HM - Introduction to Partial Differential Equations': '6807', 'MATH181 HM - Dynamical Systems': '6808', 'MATH184 HM - Graduate Partial Differential Equations': '6809', 'MATH187 HM - Operations Research': '6810', 'MATH188 HM - Social Choice and Decision Making': '6811', 'MATH189 HM - Special Topics in Mathematics': '6812', 'MATH193 HM - Mathematics Clinic': '6813', 'MATH196 HM - Independent Study in Mathematics': '6814', 'MATH197 HM - Senior Thesis in Mathematics': '6815', 'MATH198 HM - Undergraduate Mathematics Forum': '6816', 'MATH199 HM - Mathematics Colloquium': '6817', 'MCBI117 HM - Game Theory and the Evolution of Cooperation': '6818', 'MCBI118A HM - Introduction to Mathematical Biology': '6819', 'MCBI118B HM - Introduction to Computational Biology': '6820', 'MCBI199 HM - Joint Colloquium for the Mathematical and Computational Biology Major': '6821'}\n"
     ]
    }
   ],
   "source": [
    "############\n",
    "course_class = {}\n",
    "############\n",
    "\n",
    "for course in content.findAll('h2', attrs = {'class':'d-inline font-weight-normal course-li-heading'}):\n",
    "    name = course.a.text\n",
    "    box = course.a['data-target']\n",
    "    courseCL = box.split('-')[-1]\n",
    "    \n",
    "    course_class[name] = courseCL\n",
    "    \n",
    "    #print(name)\n",
    "    #print(box)\n",
    "    #print(courseCL)\n",
    "\n",
    "#print(course_class)"
   ]
  },
  {
   "cell_type": "markdown",
   "id": "027f2476",
   "metadata": {},
   "source": [
    "##### List of All Course Numbers"
   ]
  },
  {
   "cell_type": "code",
   "execution_count": 26,
   "id": "4b57ebed",
   "metadata": {},
   "outputs": [
    {
     "name": "stdout",
     "output_type": "stream",
     "text": [
      "['CSMT181', 'CSMT183', 'CSMT184', 'MATH019', 'MATH021', 'MATH055', 'MATH055A', 'MATH062', 'MATH073', 'MATH082', 'MATH092', 'MATH093', 'MATH094', 'MATH104', 'MATH106', 'MATH108', 'MATH109', 'MATH119', 'MATH131', 'MATH132', 'MATH136', 'MATH137', 'MATH138', 'MATH142', 'MATH143', 'MATH147', 'MATH148', 'MATH152', 'MATH153', 'MATH155', 'MATH156', 'MATH157', 'MATH158', 'MATH164', 'MATH165', 'MATH167', 'MATH168', 'MATH171', 'MATH172', 'MATH173', 'MATH174', 'MATH175', 'MATH176', 'MATH178', 'MATH179', 'MATH180', 'MATH181', 'MATH184', 'MATH187', 'MATH188', 'MATH189', 'MATH193', 'MATH196', 'MATH197', 'MATH198', 'MATH199', 'MCBI117', 'MCBI118A', 'MCBI118B', 'MCBI199']\n"
     ]
    }
   ],
   "source": [
    "course_numbers = []\n",
    "\n",
    "for numname in course_class:\n",
    "    num = numname.split(' ')[0]\n",
    "    course_numbers.append(num)\n",
    "\n",
    "print(course_numbers)"
   ]
  },
  {
   "cell_type": "markdown",
   "id": "8d663c3c",
   "metadata": {},
   "source": [
    "### Dictionary Between Course Number and its html Class"
   ]
  },
  {
   "cell_type": "code",
   "execution_count": 10,
   "id": "3d4d2c5f",
   "metadata": {},
   "outputs": [],
   "source": [
    "coursenum_class = {}\n",
    "\n",
    "for numname in course_class:\n",
    "    num = numname.split(' ')[0]\n",
    "    coursenum_class[num] = course_class[numname]\n",
    "    \n",
    "#print(coursenum_class)"
   ]
  },
  {
   "cell_type": "markdown",
   "id": "9cda368f",
   "metadata": {},
   "source": [
    "### Dictionary Between Course Name and its html Class"
   ]
  },
  {
   "cell_type": "code",
   "execution_count": 11,
   "id": "0ed27615",
   "metadata": {},
   "outputs": [],
   "source": [
    "coursename_class = {}\n",
    "\n",
    "for numname in course_class:\n",
    "    name = numname.split('- ')[1]\n",
    "    coursename_class[name] = course_class[numname]\n",
    "    \n",
    "#print(coursename_class)"
   ]
  },
  {
   "cell_type": "markdown",
   "id": "514aad5f",
   "metadata": {},
   "source": [
    "### Immediate Prereqs of a Course"
   ]
  },
  {
   "cell_type": "code",
   "execution_count": 14,
   "id": "3b052d6a",
   "metadata": {},
   "outputs": [
    {
     "data": {
      "text/plain": [
       "['MATH131']"
      ]
     },
     "execution_count": 14,
     "metadata": {},
     "output_type": "execute_result"
    }
   ],
   "source": [
    "def prereqs(coursenum):\n",
    "    '''\n",
    "    Input: a course number\n",
    "    Output: immediate prerequisites to the given course. prereqs are represented by their course number\n",
    "    '''\n",
    "    \n",
    "    prerequisites = []\n",
    "    \n",
    "    cID = \"course-id-\" + coursenum_class[coursenum]\n",
    "    \n",
    "    c = content.find('li', attrs = {'id':cID})\n",
    "    \n",
    "    prereqClass = c.findAll('p', attrs = {'class':'no-bottom-margin my-0'})[-1]\n",
    "    \n",
    "    messy_prerequisites = prereqClass.findAll('a', attrs = {'class':'pre-co-con-link'})\n",
    "    \n",
    "    for pre in messy_prerequisites:\n",
    "        prerequisites.append(pre.text.split('</')[0].split(' ')[0])\n",
    "        \n",
    "    return(prerequisites)\n",
    "\n",
    "prereqs('MATH147')"
   ]
  },
  {
   "cell_type": "markdown",
   "id": "f1321b5d",
   "metadata": {},
   "source": [
    "### Does This Course Have Any Prereqs?"
   ]
  },
  {
   "cell_type": "code",
   "execution_count": 217,
   "id": "48a789ed",
   "metadata": {
    "scrolled": true
   },
   "outputs": [
    {
     "data": {
      "text/plain": [
       "False"
      ]
     },
     "execution_count": 217,
     "metadata": {},
     "output_type": "execute_result"
    }
   ],
   "source": [
    "def hasprereqs(coursenum):\n",
    "    return prereqs(coursenum) != []\n",
    "\n",
    "hasprereqs('CSMT181')"
   ]
  },
  {
   "cell_type": "markdown",
   "id": "e3d523b0",
   "metadata": {},
   "source": [
    "### Total Prereqs of a Course"
   ]
  },
  {
   "cell_type": "code",
   "execution_count": 28,
   "id": "95de7ec2",
   "metadata": {},
   "outputs": [
    {
     "data": {
      "text/plain": [
       "{'CSCI042',\n",
       " 'CSCI060',\n",
       " 'CSCI070',\n",
       " 'CSCI081',\n",
       " 'MATH019',\n",
       " 'MATH055',\n",
       " 'MATH073',\n",
       " 'MATH131'}"
      ]
     },
     "execution_count": 28,
     "metadata": {},
     "output_type": "execute_result"
    }
   ],
   "source": [
    "def totalprereqs(coursenum):\n",
    "    '''\n",
    "    Input: course number\n",
    "    Output: a list of all the prerequisites of the given course. prereqs are represented by their course number\n",
    "    '''\n",
    "    \n",
    "    total_prerequisites = set()\n",
    "    \n",
    "    def recurse(coursenum):\n",
    "        if(coursenum not in course_numbers):\n",
    "            return total_prerequisites\n",
    "        for prereq in prereqs(coursenum):\n",
    "            total_prerequisites.add(prereq)\n",
    "            total_prerequisites.update(recurse(prereq))\n",
    "        return total_prerequisites\n",
    "    \n",
    "    return recurse(coursenum)\n",
    "        \n",
    "\n",
    "totalprereqs('MATH168')"
   ]
  },
  {
   "cell_type": "markdown",
   "id": "d4e92091",
   "metadata": {},
   "source": [
    "#### Finding the course w the most prereqs"
   ]
  },
  {
   "cell_type": "code",
   "execution_count": 130,
   "id": "6753826b",
   "metadata": {},
   "outputs": [
    {
     "name": "stdout",
     "output_type": "stream",
     "text": [
      "5\n"
     ]
    }
   ],
   "source": [
    "largest = 0\n",
    "\n",
    "for num in course_numbers:\n",
    "    if len(prereqs(num)) > largest:\n",
    "        largest = len(prereqs(num))\n",
    "\n",
    "print(largest)"
   ]
  },
  {
   "cell_type": "markdown",
   "id": "fd438efc",
   "metadata": {},
   "source": [
    "### Dictionary Between Courses and Their Total Prerequisites"
   ]
  },
  {
   "cell_type": "code",
   "execution_count": 248,
   "id": "b134374f",
   "metadata": {},
   "outputs": [
    {
     "name": "stdout",
     "output_type": "stream",
     "text": [
      "{'CSMT181': set(), 'CSMT183': set(), 'CSMT184': {'CSMT183'}, 'MATH019': set(), 'MATH021': set(), 'MATH055': {'MATH019', 'MATH073'}, 'MATH055A': set(), 'MATH062': {'MATH019', 'MATH073'}, 'MATH073': {'MATH019'}, 'MATH082': {'MATH073', 'MATH019'}, 'MATH092': set(), 'MATH093': set(), 'MATH094': set(), 'MATH104': {'MATH019', 'MATH073', 'MATH055'}, 'MATH106': {'MATH073', 'MATH019', 'MATH055'}, 'MATH108': {'MATH019'}, 'MATH109': {'MATH082', 'MATH019', 'MATH073'}, 'MATH119': {'MATH082', 'MATH073', 'BIOL046', 'MATH019', 'MCBI118A'}, 'MATH131': {'MATH073', 'MATH019', 'MATH055'}, 'MATH132': {'MATH131', 'MATH073', 'MATH019', 'MATH055'}, 'MATH136': {'MATH082', 'MATH019', 'MATH073'}, 'MATH137': {'MATH131', 'MATH073', 'MATH055', 'MATH132', 'MATH019'}, 'MATH138': {'MATH131', 'MATH073', 'MATH055', 'MATH137', 'MATH132', 'MATH019'}, 'MATH142': {'MATH082', 'MATH019', 'MATH073'}, 'MATH143': {'MATH131', 'MATH082', 'MATH147', 'MATH073', 'MATH055', 'MATH142', 'MATH019'}, 'MATH147': {'MATH131', 'MATH073', 'MATH019', 'MATH055'}, 'MATH148': {'MATH019', 'MATH073'}, 'MATH152': {'MATH'}, 'MATH153': set(), 'MATH155': set(), 'MATH156': {'MATH157', 'MATH073', 'MATH062', 'MATH019', 'BIOL154'}, 'MATH157': {'MATH062', 'MATH019', 'MATH073', 'BIOL154'}, 'MATH158': set(), 'MATH164': {'CSCI060', 'MATH082', 'MATH019', 'MATH073'}, 'MATH165': {'MATH082', 'MATH019', 'MATH073'}, 'MATH167': {'MATH073', 'MATH055', 'CSCI060', 'CSCI042', 'MATH019'}, 'MATH168': {'MATH131', 'MATH055', 'MATH073', 'CSCI081', 'CSCI060', 'CSCI070', 'CSCI042', 'MATH019'}, 'MATH171': {'MATH019', 'MATH073', 'MATH055'}, 'MATH172': {'MATH171', 'MATH019', 'MATH073', 'MATH055'}, 'MATH173': {'MATH131', 'MATH073', 'MATH019', 'MATH055'}, 'MATH174': {'MATH171', 'MATH019', 'MATH073', 'MATH055'}, 'MATH175': {'MATH073', 'MATH019', 'MATH055'}, 'MATH176': {'MATH171', 'MATH019', 'MATH073', 'MATH055'}, 'MATH178': {'MATH131', 'CSCI140', 'MATH157', 'MATH055', 'MATH073', 'CSCI070', 'CSCI081', 'CSCI060', 'MATH168', 'CSCI042', 'MATH062', 'MATH019', 'BIOL154'}, 'MATH179': {'CSCI005', 'MATH019', 'MATH073'}, 'MATH180': {'MATH131', 'MATH082', 'MATH073', 'MATH055', 'MATH019'}, 'MATH181': {'MATH131', 'MATH082', 'MATH073', 'MATH055', 'MATH180', 'MATH019'}, 'MATH184': {'MATH131', 'MATH082', 'MATH073', 'MATH055', 'MATH132', 'MATH180', 'MATH019'}, 'MATH187': {'MATH019', 'MATH073'}, 'MATH188': {'MATH073', 'MATH019', 'MATH055'}, 'MATH189': set(), 'MATH193': set(), 'MATH196': set(), 'MATH197': set(), 'MATH198': set(), 'MATH199': set(), 'MCBI117': set(), 'MCBI118A': {'BIOL046', 'MATH082', 'MATH019', 'MATH073'}, 'MCBI118B': {'BIOL046', 'CSCI005'}, 'MCBI199': set()}\n"
     ]
    }
   ],
   "source": [
    "totalPrereqs = {}\n",
    "\n",
    "for course in course_numbers:\n",
    "    reqs = totalprereqs(course)\n",
    "    totalPrereqs[course] = reqs\n",
    "\n",
    "print(totalPrereqs)"
   ]
  },
  {
   "cell_type": "code",
   "execution_count": 27,
   "id": "50bb3f7b",
   "metadata": {},
   "outputs": [
    {
     "name": "stdout",
     "output_type": "stream",
     "text": [
      "{'CSMT181': 0, 'CSMT183': 0, 'CSMT184': 1, 'MATH019': 0, 'MATH021': 0, 'MATH055': 2, 'MATH055A': 0, 'MATH062': 2, 'MATH073': 1, 'MATH082': 2, 'MATH092': 0, 'MATH093': 0, 'MATH094': 0, 'MATH104': 3, 'MATH106': 3, 'MATH108': 1, 'MATH109': 3, 'MATH119': 5, 'MATH131': 3, 'MATH132': 4, 'MATH136': 3, 'MATH137': 5, 'MATH138': 6, 'MATH142': 3, 'MATH143': 7, 'MATH147': 4, 'MATH148': 2, 'MATH152': 1, 'MATH153': 0, 'MATH155': 0, 'MATH156': 5, 'MATH157': 4, 'MATH158': 0, 'MATH164': 4, 'MATH165': 3, 'MATH167': 5, 'MATH168': 8, 'MATH171': 3, 'MATH172': 4, 'MATH173': 4, 'MATH174': 4, 'MATH175': 3, 'MATH176': 4, 'MATH178': 13, 'MATH179': 3, 'MATH180': 5, 'MATH181': 6, 'MATH184': 7, 'MATH187': 2, 'MATH188': 3, 'MATH189': 0, 'MATH193': 0, 'MATH196': 0, 'MATH197': 0, 'MATH198': 0, 'MATH199': 0, 'MCBI117': 0, 'MCBI118A': 4, 'MCBI118B': 2, 'MCBI199': 0}\n"
     ]
    }
   ],
   "source": [
    "prereqAmounts = {}\n",
    "\n",
    "for course in course_numbers:\n",
    "    numReqs = len(totalprereqs(course))\n",
    "    prereqAmounts[course] = numReqs\n",
    "\n",
    "print(prereqAmounts)"
   ]
  }
 ],
 "metadata": {
  "kernelspec": {
   "display_name": "Python 3 (ipykernel)",
   "language": "python",
   "name": "python3"
  },
  "language_info": {
   "codemirror_mode": {
    "name": "ipython",
    "version": 3
   },
   "file_extension": ".py",
   "mimetype": "text/x-python",
   "name": "python",
   "nbconvert_exporter": "python",
   "pygments_lexer": "ipython3",
   "version": "3.9.7"
  }
 },
 "nbformat": 4,
 "nbformat_minor": 5
}
